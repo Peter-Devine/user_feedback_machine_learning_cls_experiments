{
 "cells": [
  {
   "cell_type": "markdown",
   "id": "87032178",
   "metadata": {},
   "source": [
    "Change this cell to label = \"bug\" or label = \"feature\" depending on which label classification you'd like to analyse"
   ]
  },
  {
   "cell_type": "code",
   "execution_count": 1,
   "id": "1247aada",
   "metadata": {},
   "outputs": [],
   "source": [
    "label = \"feature\""
   ]
  },
  {
   "cell_type": "markdown",
   "id": "54e9a2ec",
   "metadata": {},
   "source": [
    "# RQ1"
   ]
  },
  {
   "cell_type": "code",
   "execution_count": 2,
   "id": "36660a9c",
   "metadata": {},
   "outputs": [],
   "source": [
    "import json, os\n",
    "\n",
    "results_dir = \"./results\"\n",
    "\n",
    "results = {}\n",
    "\n",
    "for rq in os.listdir(results_dir):\n",
    "    if rq != \"rq1\":\n",
    "        continue\n",
    "    \n",
    "    rq_dir = os.path.join(results_dir, rq)\n",
    "    for label_type in os.listdir(rq_dir):\n",
    "        \n",
    "        if label_type != label:#\"\"\n",
    "            continue\n",
    "        \n",
    "        label_dir = os.path.join(rq_dir, label_type)\n",
    "        for split_type in os.listdir(label_dir):\n",
    "            split_dir = os.path.join(label_dir, split_type)\n",
    "            results[split_type] = {}\n",
    "            for feat_type in os.listdir(split_dir):\n",
    "                feat_dir = os.path.join(split_dir, feat_type)\n",
    "                for split_num in os.listdir(feat_dir):\n",
    "                    split_num_dir = os.path.join(feat_dir, split_num)\n",
    "                    for training_data in os.listdir(split_num_dir):\n",
    "                        training_data_dir = os.path.join(split_num_dir, training_data, \"results.json\")\n",
    "                        data = json.load(open(training_data_dir, \"r\"))\n",
    "                        \n",
    "                        \n",
    "                        if f\"train_{training_data}\" not in results[split_type].keys():\n",
    "                            results[split_type][f\"train_{training_data}\"] = {}\n",
    "                        \n",
    "                        for test_data in data.keys():\n",
    "                            if f\"test_{test_data}\" not in results[split_type][f\"train_{training_data}\"].keys():\n",
    "                                results[split_type][f\"train_{training_data}\"][f\"test_{test_data}\"] = []\n",
    "                            \n",
    "                            results[split_type][f\"train_{training_data}\"][f\"test_{test_data}\"].append(data[test_data][\"test_f1\"])"
   ]
  },
  {
   "cell_type": "code",
   "execution_count": 3,
   "id": "979a6cea",
   "metadata": {},
   "outputs": [],
   "source": [
    "import numpy as np\n",
    "\n",
    "agg_results = {}\n",
    "for split_type, split_data in results.items():\n",
    "    agg_results[split_type] = {}\n",
    "    for training_data_name, training_test_results in split_data.items():\n",
    "        agg_results[split_type][training_data_name] = {}\n",
    "        for test_data_name, test_results in training_test_results.items():\n",
    "            agg_results[split_type][training_data_name][test_data_name] = np.array(test_results)"
   ]
  },
  {
   "cell_type": "code",
   "execution_count": 4,
   "id": "feb47f98",
   "metadata": {},
   "outputs": [],
   "source": [
    "rq1_results = agg_results"
   ]
  },
  {
   "cell_type": "markdown",
   "id": "ebcdcf73",
   "metadata": {},
   "source": [
    "## Single dataset"
   ]
  },
  {
   "cell_type": "code",
   "execution_count": 5,
   "id": "f67ce5b6",
   "metadata": {},
   "outputs": [],
   "source": [
    "import pandas as pd\n",
    "import numpy as np\n",
    "\n",
    "index_map = {\n",
    " 'train_ciurumelea_2017__guzman_2015__maalej_2016__scalabrino_2017_RQ1__scalabrino_2017_RQ3__tizard_2019__williams_2017': 'Train All',\n",
    " 'train_guzman_2015__maalej_2016__scalabrino_2017_RQ1__scalabrino_2017_RQ3__tizard_2019__williams_2017': 'Train All',\n",
    "}\n",
    "\n",
    "col_map = {\n",
    "}\n",
    "\n",
    "rq1_sep_df = pd.DataFrame(agg_results[\"separated\"]).sort_index().T.sort_index()\n",
    "\n",
    "rq1_sep_vals = rq1_sep_df.rename(index_map, axis=0).rename(col_map, axis=1).drop([\"Train All\"], axis=0)\n",
    "\n",
    "rq1_sep_sing_results = pd.DataFrame(pd.Series([np.mean(x) for x in np.diagonal(rq1_sep_vals.values)])).T\n",
    "\n",
    "rq1_sep_sing_results.columns = rq1_sep_vals.columns"
   ]
  },
  {
   "cell_type": "code",
   "execution_count": 6,
   "id": "d03fb8ee",
   "metadata": {},
   "outputs": [],
   "source": [
    "rq1_mix_df = pd.DataFrame(agg_results[\"mixed\"]).sort_index().T.sort_index()\n",
    "\n",
    "rq1_mix_vals_incl_f = rq1_mix_df.rename(index_map, axis=0).rename(col_map, axis=1).drop(\n",
    "    [\"Train All\"], axis=0)\n",
    "\n",
    "rq1_mix_vals = rq1_mix_vals_incl_f\n",
    "\n",
    "rq1_mix_sing_results = pd.DataFrame(pd.Series([np.mean(x) for x in np.diagonal(rq1_mix_vals.values)])).T\n",
    "\n",
    "rq1_mix_sing_results.columns = rq1_mix_vals.columns"
   ]
  },
  {
   "cell_type": "code",
   "execution_count": 7,
   "id": "5eac03ae",
   "metadata": {},
   "outputs": [],
   "source": [
    "from scipy.stats import ttest_ind\n",
    "\n",
    "rq1_t_test_results = pd.DataFrame([ttest_ind(s, m).pvalue for s, m in zip(np.diagonal(rq1_sep_vals), np.diagonal(rq1_mix_vals))]).T"
   ]
  },
  {
   "cell_type": "code",
   "execution_count": 8,
   "id": "e493c66b",
   "metadata": {},
   "outputs": [],
   "source": [
    "rq1_t_test_results.columns = rq1_sep_vals.columns"
   ]
  },
  {
   "cell_type": "code",
   "execution_count": 9,
   "id": "b4a0819b",
   "metadata": {},
   "outputs": [],
   "source": [
    "rq1_sing_results = rq1_sep_sing_results.append(rq1_mix_sing_results).append(rq1_t_test_results)\n",
    "rq1_sing_results.index = [\"separated\", \"mixed\", \"t-test\"]"
   ]
  },
  {
   "cell_type": "code",
   "execution_count": 10,
   "id": "c9ee6b71",
   "metadata": {},
   "outputs": [
    {
     "data": {
      "text/html": [
       "<div>\n",
       "<style scoped>\n",
       "    .dataframe tbody tr th:only-of-type {\n",
       "        vertical-align: middle;\n",
       "    }\n",
       "\n",
       "    .dataframe tbody tr th {\n",
       "        vertical-align: top;\n",
       "    }\n",
       "\n",
       "    .dataframe thead th {\n",
       "        text-align: right;\n",
       "    }\n",
       "</style>\n",
       "<table border=\"1\" class=\"dataframe\">\n",
       "  <thead>\n",
       "    <tr style=\"text-align: right;\">\n",
       "      <th></th>\n",
       "      <th>test_guzman_2015</th>\n",
       "      <th>test_maalej_2016</th>\n",
       "      <th>test_scalabrino_2017_RQ1</th>\n",
       "      <th>test_scalabrino_2017_RQ3</th>\n",
       "      <th>test_tizard_2019</th>\n",
       "      <th>test_williams_2017</th>\n",
       "    </tr>\n",
       "  </thead>\n",
       "  <tbody>\n",
       "    <tr>\n",
       "      <th>separated</th>\n",
       "      <td>0.399456</td>\n",
       "      <td>0.500844</td>\n",
       "      <td>0.658985</td>\n",
       "      <td>0.443143</td>\n",
       "      <td>7.843137e-03</td>\n",
       "      <td>0.528190</td>\n",
       "    </tr>\n",
       "    <tr>\n",
       "      <th>mixed</th>\n",
       "      <td>0.468064</td>\n",
       "      <td>0.544084</td>\n",
       "      <td>0.652538</td>\n",
       "      <td>0.641871</td>\n",
       "      <td>2.703788e-01</td>\n",
       "      <td>0.597301</td>\n",
       "    </tr>\n",
       "    <tr>\n",
       "      <th>t-test</th>\n",
       "      <td>0.070346</td>\n",
       "      <td>0.540788</td>\n",
       "      <td>0.741711</td>\n",
       "      <td>0.032607</td>\n",
       "      <td>6.124339e-07</td>\n",
       "      <td>0.012107</td>\n",
       "    </tr>\n",
       "  </tbody>\n",
       "</table>\n",
       "</div>"
      ],
      "text/plain": [
       "           test_guzman_2015  test_maalej_2016  test_scalabrino_2017_RQ1  \\\n",
       "separated          0.399456          0.500844                  0.658985   \n",
       "mixed              0.468064          0.544084                  0.652538   \n",
       "t-test             0.070346          0.540788                  0.741711   \n",
       "\n",
       "           test_scalabrino_2017_RQ3  test_tizard_2019  test_williams_2017  \n",
       "separated                  0.443143      7.843137e-03            0.528190  \n",
       "mixed                      0.641871      2.703788e-01            0.597301  \n",
       "t-test                     0.032607      6.124339e-07            0.012107  "
      ]
     },
     "execution_count": 10,
     "metadata": {},
     "output_type": "execute_result"
    }
   ],
   "source": [
    "rq1_sing_results"
   ]
  },
  {
   "cell_type": "markdown",
   "id": "9d8cccd8",
   "metadata": {},
   "source": [
    "# RQ2"
   ]
  },
  {
   "cell_type": "code",
   "execution_count": 11,
   "id": "e142f3e9",
   "metadata": {
    "scrolled": true
   },
   "outputs": [],
   "source": [
    "import json, os\n",
    "\n",
    "results_dir = \"./results\"\n",
    "\n",
    "results = {}\n",
    "\n",
    "for rq in os.listdir(results_dir):\n",
    "    if rq != \"rq2\":\n",
    "        continue\n",
    "    \n",
    "    rq_dir = os.path.join(results_dir, rq)\n",
    "    for label_type in os.listdir(rq_dir):\n",
    "        \n",
    "        if label_type != label:#\"\"\n",
    "            continue\n",
    "        \n",
    "        label_dir = os.path.join(rq_dir, label_type)\n",
    "        for split_type in os.listdir(label_dir):\n",
    "            split_dir = os.path.join(label_dir, split_type)\n",
    "            for feat_type in os.listdir(split_dir):\n",
    "                feat_dir = os.path.join(split_dir, feat_type)\n",
    "                for split_num in os.listdir(feat_dir):\n",
    "                    split_num_dir = os.path.join(feat_dir, split_num)\n",
    "                    for training_data in os.listdir(split_num_dir):\n",
    "                        training_data_dir = os.path.join(split_num_dir, training_data, \"results.json\")\n",
    "                        data = json.load(open(training_data_dir, \"r\"))\n",
    "                        \n",
    "                        \n",
    "                        \n",
    "                        if f\"train_{training_data}\" not in results.keys():\n",
    "                            results[f\"train_{training_data}\"] = {}\n",
    "                        \n",
    "                        for test_data in data.keys():\n",
    "                            if f\"test_{test_data}\" not in results[f\"train_{training_data}\"].keys():\n",
    "                                results[f\"train_{training_data}\"][f\"test_{test_data}\"] = []\n",
    "\n",
    "                            results[f\"train_{training_data}\"][f\"test_{test_data}\"].append(data[test_data][\"test_f1\"])"
   ]
  },
  {
   "cell_type": "code",
   "execution_count": 12,
   "id": "84dd2427",
   "metadata": {},
   "outputs": [],
   "source": [
    "import numpy as np\n",
    "\n",
    "agg_results = {}\n",
    "for training_data_name, training_test_results in results.items():\n",
    "    agg_results[training_data_name] = {}\n",
    "    for test_data_name, test_results in training_test_results.items():\n",
    "        agg_results[training_data_name][test_data_name] = np.array(test_results)"
   ]
  },
  {
   "cell_type": "code",
   "execution_count": 13,
   "id": "dce4cff7",
   "metadata": {},
   "outputs": [],
   "source": [
    "rq2_results = agg_results"
   ]
  },
  {
   "cell_type": "code",
   "execution_count": 14,
   "id": "10ff7cf6",
   "metadata": {},
   "outputs": [],
   "source": [
    "import pandas as pd\n",
    "\n",
    "index_map = {'train_ciurumelea_2017': 'Train A',\n",
    " 'train_guzman_2015': 'Train B',\n",
    " 'train_maalej_2016': 'Train C',\n",
    " 'train_scalabrino_2017_RQ1': 'Train D',\n",
    " 'train_scalabrino_2017_RQ3': 'Train E',\n",
    " 'train_tizard_2019': 'Train F',\n",
    " 'train_williams_2017': 'Train G', \n",
    "            \n",
    " 'train_ciurumelea_2017__guzman_2015__maalej_2016__scalabrino_2017_RQ1__scalabrino_2017_RQ3__tizard_2019': 'Train except G',\n",
    " 'train_ciurumelea_2017__guzman_2015__maalej_2016__scalabrino_2017_RQ1__scalabrino_2017_RQ3__williams_2017': 'Train except F',\n",
    " 'train_ciurumelea_2017__guzman_2015__maalej_2016__scalabrino_2017_RQ1__tizard_2019__williams_2017': 'Train except E',\n",
    " 'train_ciurumelea_2017__guzman_2015__maalej_2016__scalabrino_2017_RQ3__tizard_2019__williams_2017': 'Train except D',\n",
    " 'train_ciurumelea_2017__guzman_2015__scalabrino_2017_RQ1__scalabrino_2017_RQ3__tizard_2019__williams_2017': 'Train except C',\n",
    " 'train_ciurumelea_2017__maalej_2016__scalabrino_2017_RQ1__scalabrino_2017_RQ3__tizard_2019__williams_2017': 'Train except B',\n",
    " 'train_guzman_2015__maalej_2016__scalabrino_2017_RQ1__scalabrino_2017_RQ3__tizard_2019__williams_2017': 'Train except A',\n",
    "             \n",
    "            \n",
    " 'train_guzman_2015__maalej_2016__scalabrino_2017_RQ1__scalabrino_2017_RQ3__tizard_2019': 'Train except G',\n",
    " 'train_guzman_2015__maalej_2016__scalabrino_2017_RQ1__scalabrino_2017_RQ3__williams_2017': 'Train except F',\n",
    " 'train_guzman_2015__maalej_2016__scalabrino_2017_RQ1__tizard_2019__williams_2017': 'Train except E',\n",
    " 'train_guzman_2015__maalej_2016__scalabrino_2017_RQ3__tizard_2019__williams_2017': 'Train except D',\n",
    " 'train_guzman_2015__scalabrino_2017_RQ1__scalabrino_2017_RQ3__tizard_2019__williams_2017': 'Train except C',\n",
    " 'train_maalej_2016__scalabrino_2017_RQ1__scalabrino_2017_RQ3__tizard_2019__williams_2017': 'Train except B',\n",
    "}\n",
    "\n",
    "col_map = {}\n",
    "\n",
    "all_df = pd.DataFrame(agg_results).T"
   ]
  },
  {
   "cell_type": "code",
   "execution_count": 15,
   "id": "77031577",
   "metadata": {},
   "outputs": [],
   "source": [
    "all_df = all_df.rename(col_map, axis=1).rename(index_map, axis=0)"
   ]
  },
  {
   "cell_type": "code",
   "execution_count": 16,
   "id": "289d18b6",
   "metadata": {},
   "outputs": [],
   "source": [
    "rq2_except_vals = all_df.loc[[i for i in all_df.index if \"except\" in i]].T.sort_index().T.sort_index().values\n",
    "rq2_one_vals = all_df.loc[[i for i in all_df.index if \"except\" not in i]].T.sort_index().T.sort_index().applymap(np.mean)"
   ]
  },
  {
   "cell_type": "code",
   "execution_count": 17,
   "id": "35055f32",
   "metadata": {},
   "outputs": [],
   "source": [
    "zs_results = json.load(open(os.path.join(\"results\", f\"zero_shot_{label}.json\")))\n",
    "zs_results = {\"test_\" + k.split(\"_test.json\")[0]: v for k, v in zs_results.items()}"
   ]
  },
  {
   "cell_type": "code",
   "execution_count": 18,
   "id": "9ba91fb7",
   "metadata": {},
   "outputs": [],
   "source": [
    "thresholded_zs_results = {k: [x[\"0.5\"] for x in v] for k, v in zs_results.items()}"
   ]
  },
  {
   "cell_type": "code",
   "execution_count": 19,
   "id": "75b4f7ec",
   "metadata": {},
   "outputs": [],
   "source": [
    "mean_zs_results = {k: sum(v) / len(v) for k, v in thresholded_zs_results.items()}"
   ]
  },
  {
   "cell_type": "code",
   "execution_count": 20,
   "id": "4a6ba551",
   "metadata": {},
   "outputs": [],
   "source": [
    "zs_results_df = pd.DataFrame(mean_zs_results, index=[\"Zero shot\"])"
   ]
  },
  {
   "cell_type": "code",
   "execution_count": 21,
   "id": "3d68c72f",
   "metadata": {},
   "outputs": [
    {
     "data": {
      "text/html": [
       "<div>\n",
       "<style scoped>\n",
       "    .dataframe tbody tr th:only-of-type {\n",
       "        vertical-align: middle;\n",
       "    }\n",
       "\n",
       "    .dataframe tbody tr th {\n",
       "        vertical-align: top;\n",
       "    }\n",
       "\n",
       "    .dataframe thead th {\n",
       "        text-align: right;\n",
       "    }\n",
       "</style>\n",
       "<table border=\"1\" class=\"dataframe\">\n",
       "  <thead>\n",
       "    <tr style=\"text-align: right;\">\n",
       "      <th></th>\n",
       "      <th>test_guzman_2015</th>\n",
       "      <th>test_maalej_2016</th>\n",
       "      <th>test_scalabrino_2017_RQ1</th>\n",
       "      <th>test_scalabrino_2017_RQ3</th>\n",
       "      <th>test_tizard_2019</th>\n",
       "      <th>test_williams_2017</th>\n",
       "    </tr>\n",
       "  </thead>\n",
       "  <tbody>\n",
       "    <tr>\n",
       "      <th>Train B</th>\n",
       "      <td>NaN</td>\n",
       "      <td>0.146601</td>\n",
       "      <td>0.449551</td>\n",
       "      <td>0.439432</td>\n",
       "      <td>0.156117</td>\n",
       "      <td>0.212635</td>\n",
       "    </tr>\n",
       "    <tr>\n",
       "      <th>Train C</th>\n",
       "      <td>0.138127</td>\n",
       "      <td>NaN</td>\n",
       "      <td>0.159321</td>\n",
       "      <td>0.147573</td>\n",
       "      <td>0.055714</td>\n",
       "      <td>0.236644</td>\n",
       "    </tr>\n",
       "    <tr>\n",
       "      <th>Train D</th>\n",
       "      <td>0.313508</td>\n",
       "      <td>0.153771</td>\n",
       "      <td>NaN</td>\n",
       "      <td>0.210679</td>\n",
       "      <td>0.119380</td>\n",
       "      <td>0.176185</td>\n",
       "    </tr>\n",
       "    <tr>\n",
       "      <th>Train E</th>\n",
       "      <td>0.000000</td>\n",
       "      <td>0.000000</td>\n",
       "      <td>0.000000</td>\n",
       "      <td>NaN</td>\n",
       "      <td>0.000000</td>\n",
       "      <td>0.000000</td>\n",
       "    </tr>\n",
       "    <tr>\n",
       "      <th>Train F</th>\n",
       "      <td>0.054988</td>\n",
       "      <td>0.006667</td>\n",
       "      <td>0.028241</td>\n",
       "      <td>0.036063</td>\n",
       "      <td>NaN</td>\n",
       "      <td>0.020637</td>\n",
       "    </tr>\n",
       "    <tr>\n",
       "      <th>Train G</th>\n",
       "      <td>0.313886</td>\n",
       "      <td>0.212757</td>\n",
       "      <td>0.356164</td>\n",
       "      <td>0.356361</td>\n",
       "      <td>0.127420</td>\n",
       "      <td>NaN</td>\n",
       "    </tr>\n",
       "    <tr>\n",
       "      <th>LOO</th>\n",
       "      <td>0.406016</td>\n",
       "      <td>0.280554</td>\n",
       "      <td>0.526551</td>\n",
       "      <td>0.445034</td>\n",
       "      <td>0.147765</td>\n",
       "      <td>0.274192</td>\n",
       "    </tr>\n",
       "    <tr>\n",
       "      <th>Trained in-domain</th>\n",
       "      <td>0.468064</td>\n",
       "      <td>0.544084</td>\n",
       "      <td>0.652538</td>\n",
       "      <td>0.641871</td>\n",
       "      <td>0.270379</td>\n",
       "      <td>0.597301</td>\n",
       "    </tr>\n",
       "    <tr>\n",
       "      <th>Zero shot</th>\n",
       "      <td>0.384723</td>\n",
       "      <td>0.296481</td>\n",
       "      <td>0.365213</td>\n",
       "      <td>0.478852</td>\n",
       "      <td>0.152888</td>\n",
       "      <td>0.522208</td>\n",
       "    </tr>\n",
       "  </tbody>\n",
       "</table>\n",
       "</div>"
      ],
      "text/plain": [
       "                   test_guzman_2015  test_maalej_2016  \\\n",
       "Train B                         NaN          0.146601   \n",
       "Train C                    0.138127               NaN   \n",
       "Train D                    0.313508          0.153771   \n",
       "Train E                    0.000000          0.000000   \n",
       "Train F                    0.054988          0.006667   \n",
       "Train G                    0.313886          0.212757   \n",
       "LOO                        0.406016          0.280554   \n",
       "Trained in-domain          0.468064          0.544084   \n",
       "Zero shot                  0.384723          0.296481   \n",
       "\n",
       "                   test_scalabrino_2017_RQ1  test_scalabrino_2017_RQ3  \\\n",
       "Train B                            0.449551                  0.439432   \n",
       "Train C                            0.159321                  0.147573   \n",
       "Train D                                 NaN                  0.210679   \n",
       "Train E                            0.000000                       NaN   \n",
       "Train F                            0.028241                  0.036063   \n",
       "Train G                            0.356164                  0.356361   \n",
       "LOO                                0.526551                  0.445034   \n",
       "Trained in-domain                  0.652538                  0.641871   \n",
       "Zero shot                          0.365213                  0.478852   \n",
       "\n",
       "                   test_tizard_2019  test_williams_2017  \n",
       "Train B                    0.156117            0.212635  \n",
       "Train C                    0.055714            0.236644  \n",
       "Train D                    0.119380            0.176185  \n",
       "Train E                    0.000000            0.000000  \n",
       "Train F                         NaN            0.020637  \n",
       "Train G                    0.127420                 NaN  \n",
       "LOO                        0.147765            0.274192  \n",
       "Trained in-domain          0.270379            0.597301  \n",
       "Zero shot                  0.152888            0.522208  "
      ]
     },
     "execution_count": 21,
     "metadata": {},
     "output_type": "execute_result"
    }
   ],
   "source": [
    "rq2_LOO_results = pd.DataFrame([np.mean(x) for x in np.diagonal(rq2_except_vals)]).T\n",
    "rq2_LOO_results.columns = rq2_one_vals.columns\n",
    "\n",
    "rq2_combined_df = rq2_one_vals.append(rq2_LOO_results).append(rq1_mix_sing_results).append(zs_results_df)\n",
    "rq2_combined_df.index = rq2_one_vals.index.tolist() + [\"LOO\", \"Trained in-domain\", \"Zero shot\"]\n",
    "rq2_combined_df"
   ]
  },
  {
   "cell_type": "code",
   "execution_count": 30,
   "id": "ab6586a7",
   "metadata": {},
   "outputs": [],
   "source": [
    "# from scipy.stats import ttest_ind\n",
    "\n",
    "# thresholded_zs_results_ordered = [thresholded_zs_results[col] for col in rq2_combined_df.columns]\n",
    "# rq1_results = np.diagonal(rq1_mix_vals_incl_f)\n",
    "# loo_results = np.diagonal(rq2_except_vals)\n",
    "\n",
    "# [ttest_ind(*x).pvalue for x in zip(loo_results, rq1_results)]"
   ]
  },
  {
   "cell_type": "markdown",
   "id": "1da6aa19",
   "metadata": {},
   "source": [
    "# RQ3"
   ]
  },
  {
   "cell_type": "code",
   "execution_count": 23,
   "id": "50d06bc1",
   "metadata": {},
   "outputs": [],
   "source": [
    "import json, os\n",
    "\n",
    "results_dir = \"./results\"\n",
    "\n",
    "results = {}\n",
    "\n",
    "for rq in os.listdir(results_dir):\n",
    "    if rq != \"rq3\":\n",
    "        continue\n",
    "    \n",
    "    rq_dir = os.path.join(results_dir, rq)\n",
    "    for label_type in os.listdir(rq_dir):\n",
    "        \n",
    "        if label_type != label:#\"\"\n",
    "            continue\n",
    "        \n",
    "        label_dir = os.path.join(rq_dir, label_type)\n",
    "        for split_type in os.listdir(label_dir):\n",
    "            split_dir = os.path.join(label_dir, split_type)\n",
    "            for feat_type in os.listdir(split_dir):\n",
    "                feat_dir = os.path.join(split_dir, feat_type)\n",
    "                results[feat_type] = {}\n",
    "                for split_num in os.listdir(feat_dir):\n",
    "                    split_num_dir = os.path.join(feat_dir, split_num)\n",
    "                    for training_data in os.listdir(split_num_dir):\n",
    "                        training_data_dir = os.path.join(split_num_dir, training_data, \"results.json\")\n",
    "                        data = json.load(open(training_data_dir, \"r\"))\n",
    "                        \n",
    "                        assert len(data.keys()) == 1\n",
    "                        \n",
    "                        for test_data in data.keys():\n",
    "                            if test_data not in results[feat_type].keys():\n",
    "                                results[feat_type][test_data] = []\n",
    "\n",
    "                            results[feat_type][test_data].append(data[test_data][\"test_f1\"])"
   ]
  },
  {
   "cell_type": "code",
   "execution_count": 24,
   "id": "64ed7b75",
   "metadata": {},
   "outputs": [],
   "source": [
    "import pandas as pd\n",
    "import numpy as np\n",
    "df = pd.DataFrame(results).sort_index().sort_index()\n",
    "# df.applymap(np.mean).T"
   ]
  },
  {
   "cell_type": "code",
   "execution_count": 25,
   "id": "d192f3a4",
   "metadata": {},
   "outputs": [],
   "source": [
    "rq1_mix_results = pd.DataFrame(np.diagonal(rq1_mix_vals_incl_f))\n",
    "rq1_mix_results.index = [x.split(\"test_\")[-1] for x in rq1_mix_vals_incl_f.columns]"
   ]
  },
  {
   "cell_type": "code",
   "execution_count": 26,
   "id": "f371d65d",
   "metadata": {},
   "outputs": [],
   "source": [
    "df[\"text_only\"] = rq1_mix_results"
   ]
  },
  {
   "cell_type": "code",
   "execution_count": 27,
   "id": "95a7e92c",
   "metadata": {},
   "outputs": [],
   "source": [
    "from scipy.stats import ttest_ind\n",
    "\n",
    "t_tests = [ttest_ind(x[\"text_only\"], x[\"with_metadata\"]).pvalue for i, x in df.iterrows()]"
   ]
  },
  {
   "cell_type": "code",
   "execution_count": 28,
   "id": "0c2cb4a6",
   "metadata": {},
   "outputs": [],
   "source": [
    "df[\"t_test\"] = t_tests"
   ]
  },
  {
   "cell_type": "code",
   "execution_count": 29,
   "id": "5cad3b3f",
   "metadata": {},
   "outputs": [
    {
     "data": {
      "text/html": [
       "<div>\n",
       "<style scoped>\n",
       "    .dataframe tbody tr th:only-of-type {\n",
       "        vertical-align: middle;\n",
       "    }\n",
       "\n",
       "    .dataframe tbody tr th {\n",
       "        vertical-align: top;\n",
       "    }\n",
       "\n",
       "    .dataframe thead th {\n",
       "        text-align: right;\n",
       "    }\n",
       "</style>\n",
       "<table border=\"1\" class=\"dataframe\">\n",
       "  <thead>\n",
       "    <tr style=\"text-align: right;\">\n",
       "      <th></th>\n",
       "      <th>guzman_2015</th>\n",
       "      <th>maalej_2016</th>\n",
       "      <th>scalabrino_2017_RQ1</th>\n",
       "      <th>scalabrino_2017_RQ3</th>\n",
       "      <th>tizard_2019</th>\n",
       "      <th>williams_2017</th>\n",
       "    </tr>\n",
       "  </thead>\n",
       "  <tbody>\n",
       "    <tr>\n",
       "      <th>text_only</th>\n",
       "      <td>0.468064</td>\n",
       "      <td>0.544084</td>\n",
       "      <td>0.652538</td>\n",
       "      <td>0.641871</td>\n",
       "      <td>0.270379</td>\n",
       "      <td>0.597301</td>\n",
       "    </tr>\n",
       "    <tr>\n",
       "      <th>with_metadata</th>\n",
       "      <td>0.475011</td>\n",
       "      <td>0.534579</td>\n",
       "      <td>0.668649</td>\n",
       "      <td>0.687303</td>\n",
       "      <td>0.463117</td>\n",
       "      <td>0.604807</td>\n",
       "    </tr>\n",
       "    <tr>\n",
       "      <th>t_test</th>\n",
       "      <td>0.870724</td>\n",
       "      <td>0.868687</td>\n",
       "      <td>0.505059</td>\n",
       "      <td>0.451730</td>\n",
       "      <td>0.000927</td>\n",
       "      <td>0.722975</td>\n",
       "    </tr>\n",
       "  </tbody>\n",
       "</table>\n",
       "</div>"
      ],
      "text/plain": [
       "               guzman_2015  maalej_2016  scalabrino_2017_RQ1  \\\n",
       "text_only         0.468064     0.544084             0.652538   \n",
       "with_metadata     0.475011     0.534579             0.668649   \n",
       "t_test            0.870724     0.868687             0.505059   \n",
       "\n",
       "               scalabrino_2017_RQ3  tizard_2019  williams_2017  \n",
       "text_only                 0.641871     0.270379       0.597301  \n",
       "with_metadata             0.687303     0.463117       0.604807  \n",
       "t_test                    0.451730     0.000927       0.722975  "
      ]
     },
     "execution_count": 29,
     "metadata": {},
     "output_type": "execute_result"
    }
   ],
   "source": [
    "df.applymap(np.mean).T"
   ]
  }
 ],
 "metadata": {
  "kernelspec": {
   "display_name": "Python 3 (ipykernel)",
   "language": "python",
   "name": "python3"
  },
  "language_info": {
   "codemirror_mode": {
    "name": "ipython",
    "version": 3
   },
   "file_extension": ".py",
   "mimetype": "text/x-python",
   "name": "python",
   "nbconvert_exporter": "python",
   "pygments_lexer": "ipython3",
   "version": "3.9.7"
  }
 },
 "nbformat": 4,
 "nbformat_minor": 5
}
