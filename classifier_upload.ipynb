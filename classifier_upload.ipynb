{
 "cells": [
  {
   "cell_type": "markdown",
   "id": "aa8ba299",
   "metadata": {},
   "source": [
    "# Save bug report model"
   ]
  },
  {
   "cell_type": "code",
   "execution_count": 1,
   "id": "8963b5e8",
   "metadata": {},
   "outputs": [],
   "source": [
    "bug_cls_model_path = \"saved_models/rq1__bug__mixed__text_only__0__ciurumelea_2017__guzman_2015__maalej_2016__scalabrino_2017_RQ1__scalabrino_2017_RQ3__tizard_2019__williams_2017__pytorch_model.bin\""
   ]
  },
  {
   "cell_type": "code",
   "execution_count": 2,
   "id": "68dac20b",
   "metadata": {},
   "outputs": [
    {
     "data": {
      "text/plain": [
       "<All keys matched successfully>"
      ]
     },
     "execution_count": 2,
     "metadata": {},
     "output_type": "execute_result"
    }
   ],
   "source": [
    "from transformers import AutoModelForSequenceClassification, AutoConfig\n",
    "import torch\n",
    "import os\n",
    "\n",
    "config = AutoConfig.from_pretrained(\"distilbert-base-cased\", num_labels=2)\n",
    "\n",
    "config.num_labels = 2\n",
    "config.id2label = {0: \"no_bug\", 1: \"bug\"}\n",
    "config.problem_type = \"single_label_classification\"\n",
    "model = AutoModelForSequenceClassification.from_config(config)\n",
    "\n",
    "model.load_state_dict(torch.load(bug_cls_model_path))"
   ]
  },
  {
   "cell_type": "code",
   "execution_count": 3,
   "id": "566e241e",
   "metadata": {},
   "outputs": [],
   "source": [
    "from transformers import AutoTokenizer\n",
    "\n",
    "tokenizer = AutoTokenizer.from_pretrained(\"distilbert-base-cased\")"
   ]
  },
  {
   "cell_type": "code",
   "execution_count": 4,
   "id": "bcc78235",
   "metadata": {},
   "outputs": [],
   "source": [
    "from transformers import TextClassificationPipeline\n",
    "\n",
    "pipe = TextClassificationPipeline(model=model, tokenizer=tokenizer, function_to_apply=\"sigmoid\")\n",
    "\n",
    "pipe.save_pretrained(\"../huggingface_saved_models_custom/distilbert_bug_classifier\")"
   ]
  },
  {
   "cell_type": "code",
   "execution_count": 5,
   "id": "fbb46ce6",
   "metadata": {},
   "outputs": [
    {
     "data": {
      "text/plain": [
       "[{'label': 'bug', 'score': 0.8384398818016052}]"
      ]
     },
     "execution_count": 5,
     "metadata": {},
     "output_type": "execute_result"
    }
   ],
   "source": [
    "pipe(\"Shit keeps crashing\")"
   ]
  },
  {
   "cell_type": "markdown",
   "id": "d2ed9089",
   "metadata": {},
   "source": [
    "# Save feature request model"
   ]
  },
  {
   "cell_type": "code",
   "execution_count": 4,
   "id": "711c50a7",
   "metadata": {},
   "outputs": [],
   "source": [
    "feature_cls_model_path = \"saved_models/rq1__feature__mixed__text_only__0__guzman_2015__maalej_2016__scalabrino_2017_RQ1__scalabrino_2017_RQ3__tizard_2019__williams_2017__pytorch_model.bin\""
   ]
  },
  {
   "cell_type": "code",
   "execution_count": 5,
   "id": "8b4f56bc",
   "metadata": {},
   "outputs": [
    {
     "data": {
      "text/plain": [
       "<All keys matched successfully>"
      ]
     },
     "execution_count": 5,
     "metadata": {},
     "output_type": "execute_result"
    }
   ],
   "source": [
    "from transformers import AutoModelForSequenceClassification, AutoConfig\n",
    "import torch\n",
    "import os\n",
    "\n",
    "config = AutoConfig.from_pretrained(\"distilbert-base-cased\", num_labels=2)\n",
    "\n",
    "config.num_labels = 2\n",
    "config.id2label = {0:\"no_feature_request\", 1:\"feature_request\"}\n",
    "config.problem_type = \"single_label_classification\"\n",
    "model = AutoModelForSequenceClassification.from_config(config)\n",
    "\n",
    "model.load_state_dict(torch.load(feature_cls_model_path))"
   ]
  },
  {
   "cell_type": "code",
   "execution_count": 6,
   "id": "b1dea4af",
   "metadata": {},
   "outputs": [],
   "source": [
    "from transformers import AutoTokenizer\n",
    "\n",
    "tokenizer = AutoTokenizer.from_pretrained(\"distilbert-base-cased\")"
   ]
  },
  {
   "cell_type": "code",
   "execution_count": 7,
   "id": "f1c4ba03",
   "metadata": {},
   "outputs": [],
   "source": [
    "from transformers import TextClassificationPipeline\n",
    "\n",
    "pipe = TextClassificationPipeline(model=model, tokenizer=tokenizer, function_to_apply=\"sigmoid\")\n",
    "\n",
    "pipe.save_pretrained(\"../huggingface_saved_models_custom/distilbert_feature_classifier\")"
   ]
  },
  {
   "cell_type": "code",
   "execution_count": null,
   "id": "854f27d1",
   "metadata": {},
   "outputs": [],
   "source": []
  },
  {
   "cell_type": "code",
   "execution_count": null,
   "id": "972cc5b2",
   "metadata": {},
   "outputs": [],
   "source": []
  },
  {
   "cell_type": "code",
   "execution_count": null,
   "id": "32f99bd3",
   "metadata": {},
   "outputs": [
    {
     "data": {
      "application/vnd.jupyter.widget-view+json": {
       "model_id": "71bb02cb85ed4ba9aa814c7c858460f3",
       "version_major": 2,
       "version_minor": 0
      },
      "text/plain": [
       "Downloading:   0%|          | 0.00/720 [00:00<?, ?B/s]"
      ]
     },
     "metadata": {},
     "output_type": "display_data"
    },
    {
     "data": {
      "application/vnd.jupyter.widget-view+json": {
       "model_id": "7859beb56ffc44158a7cf6272cba2e2d",
       "version_major": 2,
       "version_minor": 0
      },
      "text/plain": [
       "Downloading:   0%|          | 0.00/251M [00:00<?, ?B/s]"
      ]
     },
     "metadata": {},
     "output_type": "display_data"
    },
    {
     "data": {
      "application/vnd.jupyter.widget-view+json": {
       "model_id": "90be3c414523403994aa231c6abffcdd",
       "version_major": 2,
       "version_minor": 0
      },
      "text/plain": [
       "Downloading:   0%|          | 0.00/332 [00:00<?, ?B/s]"
      ]
     },
     "metadata": {},
     "output_type": "display_data"
    },
    {
     "data": {
      "application/vnd.jupyter.widget-view+json": {
       "model_id": "84f29b89f23f493f99f4154979a75baa",
       "version_major": 2,
       "version_minor": 0
      },
      "text/plain": [
       "Downloading:   0%|          | 0.00/208k [00:00<?, ?B/s]"
      ]
     },
     "metadata": {},
     "output_type": "display_data"
    }
   ],
   "source": [
    "from transformers import pipeline\n",
    "\n",
    "pipe = pipeline(\"text-classification\", model=\"Peterard/distilbert_feature_classifier\")"
   ]
  },
  {
   "cell_type": "code",
   "execution_count": null,
   "id": "e07d7d30",
   "metadata": {},
   "outputs": [],
   "source": [
    "pipe(\"This shit keeps crashing\")"
   ]
  },
  {
   "cell_type": "code",
   "execution_count": null,
   "id": "593c6927",
   "metadata": {},
   "outputs": [],
   "source": []
  }
 ],
 "metadata": {
  "kernelspec": {
   "display_name": "Python 3 (ipykernel)",
   "language": "python",
   "name": "python3"
  },
  "language_info": {
   "codemirror_mode": {
    "name": "ipython",
    "version": 3
   },
   "file_extension": ".py",
   "mimetype": "text/x-python",
   "name": "python",
   "nbconvert_exporter": "python",
   "pygments_lexer": "ipython3",
   "version": "3.9.7"
  }
 },
 "nbformat": 4,
 "nbformat_minor": 5
}
